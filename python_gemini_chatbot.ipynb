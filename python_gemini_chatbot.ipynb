{
  "nbformat": 4,
  "nbformat_minor": 0,
  "metadata": {
    "colab": {
      "provenance": [],
      "authorship_tag": "ABX9TyNhmEasy24a+TyfE5K24RdZ",
      "include_colab_link": true
    },
    "kernelspec": {
      "name": "python3",
      "display_name": "Python 3"
    },
    "language_info": {
      "name": "python"
    }
  },
  "cells": [
    {
      "cell_type": "markdown",
      "metadata": {
        "id": "view-in-github",
        "colab_type": "text"
      },
      "source": [
        "<a href=\"https://colab.research.google.com/github/rafaelfelixmoraes/gemini-python-study/blob/main/python_gemini_chatbot.ipynb\" target=\"_parent\"><img src=\"https://colab.research.google.com/assets/colab-badge.svg\" alt=\"Open In Colab\"/></a>"
      ]
    },
    {
      "cell_type": "code",
      "execution_count": null,
      "metadata": {
        "id": "6YgAkHmM5yjR"
      },
      "outputs": [],
      "source": [
        "\"\"\"\n",
        "At the command line, only need to run once to install the package via pip:\n",
        "\n",
        "$ pip install google-generativeai\n",
        "\"\"\"\n",
        "\n",
        "from pathlib import Path\n",
        "from IPython.display import display\n",
        "from IPython.display import Markdown\n",
        "import hashlib\n",
        "import google.generativeai as genai\n",
        "import textwrap\n",
        "\n",
        "genai.configure(api_key=\"\")\n",
        "\n",
        "def to_markdown(text):\n",
        "  text = text.replace('•', '  *')\n",
        "  return Markdown(textwrap.indent(text, '> ', predicate=lambda _: True))\n",
        "\n",
        "# Set up the model\n",
        "generation_config = {\n",
        "  \"temperature\": 0.9,\n",
        "  \"top_p\": 0.95,\n",
        "  \"top_k\": 32,\n",
        "  \"max_output_tokens\": 1024,\n",
        "}\n",
        "\n",
        "safety_settings = [\n",
        "  {\n",
        "    \"category\": \"HARM_CATEGORY_HARASSMENT\",\n",
        "    \"threshold\": \"BLOCK_MEDIUM_AND_ABOVE\"\n",
        "  },\n",
        "  {\n",
        "    \"category\": \"HARM_CATEGORY_HATE_SPEECH\",\n",
        "    \"threshold\": \"BLOCK_MEDIUM_AND_ABOVE\"\n",
        "  },\n",
        "  {\n",
        "    \"category\": \"HARM_CATEGORY_SEXUALLY_EXPLICIT\",\n",
        "    \"threshold\": \"BLOCK_MEDIUM_AND_ABOVE\"\n",
        "  },\n",
        "  {\n",
        "    \"category\": \"HARM_CATEGORY_DANGEROUS_CONTENT\",\n",
        "    \"threshold\": \"BLOCK_MEDIUM_AND_ABOVE\"\n",
        "  },\n",
        "]\n",
        "\n",
        "model = genai.GenerativeModel(model_name=\"gemini-1.5-pro-latest\",\n",
        "                              generation_config=generation_config,\n",
        "                              safety_settings=safety_settings)\n",
        "\n"
      ]
    },
    {
      "cell_type": "markdown",
      "source": [
        "Criando chatbot utilizando a lib do Gemini"
      ],
      "metadata": {
        "id": "bVU4THqe-xUr"
      }
    },
    {
      "cell_type": "code",
      "source": [
        "convo = model.start_chat(history=[\n",
        "])\n",
        "\n",
        "prompt = input(\"Aguardando prompt: \")\n",
        "\n",
        "while prompt != \"Fim\":\n",
        "  convo.send_message(prompt)\n",
        "  print(\"Resposta: \")\n",
        "  display(to_markdown(convo.last.text))\n",
        "  prompt = input(\"Aguardando prompt: \")\n",
        "\n",
        "print(\"Chat finalizado. Obrigado por utilizar a Gemini AI =)\")"
      ],
      "metadata": {
        "colab": {
          "base_uri": "https://localhost:8080/",
          "height": 243
        },
        "id": "OTevEyYj-3HQ",
        "outputId": "0ef98e99-1529-495d-9e21-4b110a3d0cdf"
      },
      "execution_count": null,
      "outputs": [
        {
          "output_type": "stream",
          "name": "stdout",
          "text": [
            "Aguardando prompt: Me forneça um resumo da série chicago pd em no máximo 150 palavras\n",
            "Resposta: \n"
          ]
        },
        {
          "output_type": "display_data",
          "data": {
            "text/plain": [
              "<IPython.core.display.Markdown object>"
            ],
            "text/markdown": "> ## Chicago PD: Policiais e Criminosos nas Ruas de Chicago \n> \n> Chicago PD acompanha a Unidade de Inteligência do 21º Distrito, liderada pelo implacável Sargento Hank Voight. Essa equipe de elite enfrenta o crime nas ruas de Chicago, lidando com tráfico de drogas, assassinatos, crimes de colarinho branco e tudo mais que a cidade tem de pior. \n> \n> A série explora o lado pessoal e profissional dos policiais, incluindo os dilemas morais que enfrentam diariamente. Voight e sua equipe, que inclui os detetives Antonio Dawson, Jay Halstead e Erin Lindsay, muitas vezes se veem cruzando a linha entre o certo e o errado em busca da justiça. Com ação intensa e drama pessoal, Chicago PD oferece um olhar cru e realista sobre o mundo do crime e da polícia. \n"
          },
          "metadata": {}
        },
        {
          "output_type": "stream",
          "name": "stdout",
          "text": [
            "Aguardando prompt: Fim\n",
            "Chat finalizado. Obrigado por utilizar o Gemini =)\n"
          ]
        }
      ]
    }
  ]
}